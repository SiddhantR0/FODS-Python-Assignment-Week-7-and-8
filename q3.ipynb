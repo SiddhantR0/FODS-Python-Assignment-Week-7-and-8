{
 "cells": [
  {
   "cell_type": "code",
   "execution_count": 3,
   "metadata": {},
   "outputs": [],
   "source": [
    "# import numpy module as np\n",
    "import numpy as np"
   ]
  },
  {
   "cell_type": "code",
   "execution_count": 4,
   "metadata": {},
   "outputs": [],
   "source": [
    "# creating an array of size 10 with values ranging from 0 - 1 (float values)\n",
    "vector = np.random.uniform(0, 1, 10)"
   ]
  },
  {
   "cell_type": "code",
   "execution_count": null,
   "metadata": {},
   "outputs": [
    {
     "name": "stdout",
     "output_type": "stream",
     "text": [
      "Vector of size 10 with values ranging from 0 to 1 (both excluded):\n",
      "[0.28916239 0.92192195 0.97520799 0.17505883 0.76623199 0.58258862\n",
      " 0.74461162 0.99580846 0.83442001 0.0483508 ]\n"
     ]
    }
   ],
   "source": [
    "# displaying the result\n",
    "print(\"Vector of size 10 with values ranging from 0 to 1 (both excluded):\")\n",
    "print(vector)"
   ]
  }
 ],
 "metadata": {
  "kernelspec": {
   "display_name": "Python 3",
   "language": "python",
   "name": "python3"
  },
  "language_info": {
   "codemirror_mode": {
    "name": "ipython",
    "version": 3
   },
   "file_extension": ".py",
   "mimetype": "text/x-python",
   "name": "python",
   "nbconvert_exporter": "python",
   "pygments_lexer": "ipython3",
   "version": "3.13.1"
  }
 },
 "nbformat": 4,
 "nbformat_minor": 2
}
