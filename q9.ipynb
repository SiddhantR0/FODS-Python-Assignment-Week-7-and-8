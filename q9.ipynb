{
 "cells": [
  {
   "cell_type": "code",
   "execution_count": 1,
   "metadata": {},
   "outputs": [],
   "source": [
    "# import numpy module as np\n",
    "import numpy as np"
   ]
  },
  {
   "cell_type": "code",
   "execution_count": 2,
   "metadata": {},
   "outputs": [],
   "source": [
    "# import pandas module as pd\n",
    "import pandas as pd"
   ]
  },
  {
   "cell_type": "code",
   "execution_count": 3,
   "metadata": {},
   "outputs": [],
   "source": [
    "# initializing the values (given in the question)\n",
    "data = {\n",
    "    'EmployeeID': [101, 102, 103, 104, 105],\n",
    "    'Name': ['John Smith', 'Alice Brown', 'Bob White', 'Emma Green', 'Charlie Red'],\n",
    "    'Department': ['IT', 'HR', 'IT', 'Finance', 'HR'],\n",
    "    'Age': [30, 28, 35, 40, 25],\n",
    "    'Salary': [70000, 60000, 80000, 90000, 55000],\n",
    "    'JoinDate': ['2018-07-15', '2020-03-10', '2016-11-01', '2012-05-25', '2021-06-01'],\n",
    "    'ExperienceYears': [5, 3, 7, 11, 2]\n",
    "}"
   ]
  },
  {
   "cell_type": "code",
   "execution_count": 4,
   "metadata": {},
   "outputs": [],
   "source": [
    "# initializing the values as a dataframe\n",
    "df = pd.DataFrame(data)"
   ]
  },
  {
   "cell_type": "code",
   "execution_count": 5,
   "metadata": {},
   "outputs": [
    {
     "data": {
      "text/html": [
       "<div>\n",
       "<style scoped>\n",
       "    .dataframe tbody tr th:only-of-type {\n",
       "        vertical-align: middle;\n",
       "    }\n",
       "\n",
       "    .dataframe tbody tr th {\n",
       "        vertical-align: top;\n",
       "    }\n",
       "\n",
       "    .dataframe thead th {\n",
       "        text-align: right;\n",
       "    }\n",
       "</style>\n",
       "<table border=\"1\" class=\"dataframe\">\n",
       "  <thead>\n",
       "    <tr style=\"text-align: right;\">\n",
       "      <th></th>\n",
       "      <th>EmployeeID</th>\n",
       "      <th>Name</th>\n",
       "      <th>Department</th>\n",
       "      <th>Age</th>\n",
       "      <th>Salary</th>\n",
       "      <th>JoinDate</th>\n",
       "      <th>ExperienceYears</th>\n",
       "    </tr>\n",
       "  </thead>\n",
       "  <tbody>\n",
       "    <tr>\n",
       "      <th>0</th>\n",
       "      <td>101</td>\n",
       "      <td>John Smith</td>\n",
       "      <td>IT</td>\n",
       "      <td>30</td>\n",
       "      <td>70000</td>\n",
       "      <td>2018-07-15</td>\n",
       "      <td>5</td>\n",
       "    </tr>\n",
       "    <tr>\n",
       "      <th>1</th>\n",
       "      <td>102</td>\n",
       "      <td>Alice Brown</td>\n",
       "      <td>HR</td>\n",
       "      <td>28</td>\n",
       "      <td>60000</td>\n",
       "      <td>2020-03-10</td>\n",
       "      <td>3</td>\n",
       "    </tr>\n",
       "    <tr>\n",
       "      <th>2</th>\n",
       "      <td>103</td>\n",
       "      <td>Bob White</td>\n",
       "      <td>IT</td>\n",
       "      <td>35</td>\n",
       "      <td>80000</td>\n",
       "      <td>2016-11-01</td>\n",
       "      <td>7</td>\n",
       "    </tr>\n",
       "    <tr>\n",
       "      <th>3</th>\n",
       "      <td>104</td>\n",
       "      <td>Emma Green</td>\n",
       "      <td>Finance</td>\n",
       "      <td>40</td>\n",
       "      <td>90000</td>\n",
       "      <td>2012-05-25</td>\n",
       "      <td>11</td>\n",
       "    </tr>\n",
       "    <tr>\n",
       "      <th>4</th>\n",
       "      <td>105</td>\n",
       "      <td>Charlie Red</td>\n",
       "      <td>HR</td>\n",
       "      <td>25</td>\n",
       "      <td>55000</td>\n",
       "      <td>2021-06-01</td>\n",
       "      <td>2</td>\n",
       "    </tr>\n",
       "  </tbody>\n",
       "</table>\n",
       "</div>"
      ],
      "text/plain": [
       "   EmployeeID         Name Department  Age  Salary    JoinDate  \\\n",
       "0         101   John Smith         IT   30   70000  2018-07-15   \n",
       "1         102  Alice Brown         HR   28   60000  2020-03-10   \n",
       "2         103    Bob White         IT   35   80000  2016-11-01   \n",
       "3         104   Emma Green    Finance   40   90000  2012-05-25   \n",
       "4         105  Charlie Red         HR   25   55000  2021-06-01   \n",
       "\n",
       "   ExperienceYears  \n",
       "0                5  \n",
       "1                3  \n",
       "2                7  \n",
       "3               11  \n",
       "4                2  "
      ]
     },
     "execution_count": 5,
     "metadata": {},
     "output_type": "execute_result"
    }
   ],
   "source": [
    "# displaying the dataframe\n",
    "df"
   ]
  },
  {
   "cell_type": "code",
   "execution_count": 6,
   "metadata": {},
   "outputs": [
    {
     "name": "stdout",
     "output_type": "stream",
     "text": [
      "Selected Name and Salary Columns:\n",
      "          Name  Salary\n",
      "0   John Smith   70000\n",
      "1  Alice Brown   60000\n",
      "2    Bob White   80000\n",
      "3   Emma Green   90000\n",
      "4  Charlie Red   55000\n"
     ]
    }
   ],
   "source": [
    "# a\n",
    "selected_columns = df[['Name', 'Salary']]\n",
    "print(\"Selected Name and Salary Columns:\")\n",
    "print(selected_columns)"
   ]
  },
  {
   "cell_type": "code",
   "execution_count": 7,
   "metadata": {},
   "outputs": [
    {
     "name": "stdout",
     "output_type": "stream",
     "text": [
      "\n",
      "Employees not in IT department:\n",
      "   EmployeeID         Name Department  Age  Salary    JoinDate  \\\n",
      "1         102  Alice Brown         HR   28   60000  2020-03-10   \n",
      "3         104   Emma Green    Finance   40   90000  2012-05-25   \n",
      "4         105  Charlie Red         HR   25   55000  2021-06-01   \n",
      "\n",
      "   ExperienceYears  \n",
      "1                3  \n",
      "3               11  \n",
      "4                2  \n"
     ]
    }
   ],
   "source": [
    "# b\n",
    "it_department_employees = df[df['Department'] != 'IT']\n",
    "print(\"\\nEmployees not in IT department:\")\n",
    "print(it_department_employees)"
   ]
  },
  {
   "cell_type": "code",
   "execution_count": 8,
   "metadata": {},
   "outputs": [],
   "source": [
    "# c \n",
    "older_than_30 = df[df['Age'] > 30]\n",
    "average_salary_by_department = df.groupby('Department')['Salary'].mean()"
   ]
  },
  {
   "cell_type": "code",
   "execution_count": 9,
   "metadata": {},
   "outputs": [
    {
     "name": "stdout",
     "output_type": "stream",
     "text": [
      "\n",
      "Number of employees in each department:\n",
      "Department\n",
      "IT         2\n",
      "HR         2\n",
      "Finance    1\n",
      "Name: count, dtype: int64\n"
     ]
    }
   ],
   "source": [
    "# d\n",
    "employee_count_by_department = df['Department'].value_counts()\n",
    "print(\"\\nNumber of employees in each department:\")\n",
    "print(employee_count_by_department)"
   ]
  },
  {
   "cell_type": "code",
   "execution_count": 10,
   "metadata": {},
   "outputs": [
    {
     "name": "stdout",
     "output_type": "stream",
     "text": [
      "\n",
      "Data with Bonus column added:\n",
      "   EmployeeID         Name Department  Age  Salary    JoinDate  \\\n",
      "0         101   John Smith         IT   30   70000  2018-07-15   \n",
      "1         102  Alice Brown         HR   28   60000  2020-03-10   \n",
      "2         103    Bob White         IT   35   80000  2016-11-01   \n",
      "3         104   Emma Green    Finance   40   90000  2012-05-25   \n",
      "4         105  Charlie Red         HR   25   55000  2021-06-01   \n",
      "\n",
      "   ExperienceYears   Bonus  \n",
      "0                5  7000.0  \n",
      "1                3  6000.0  \n",
      "2                7  8000.0  \n",
      "3               11  9000.0  \n",
      "4                2  5500.0  \n"
     ]
    }
   ],
   "source": [
    "# e\n",
    "df['Bonus'] = df['Salary'] * 0.10\n",
    "print(\"\\nData with Bonus column added:\")\n",
    "print(df)"
   ]
  },
  {
   "cell_type": "code",
   "execution_count": 11,
   "metadata": {},
   "outputs": [
    {
     "name": "stdout",
     "output_type": "stream",
     "text": [
      "\n",
      "Updated Department column (HR replaced with Human Resources):\n",
      "   EmployeeID         Name       Department  Age  Salary    JoinDate  \\\n",
      "0         101   John Smith               IT   30   70000  2018-07-15   \n",
      "1         102  Alice Brown  Human Resources   28   60000  2020-03-10   \n",
      "2         103    Bob White               IT   35   80000  2016-11-01   \n",
      "3         104   Emma Green          Finance   40   90000  2012-05-25   \n",
      "4         105  Charlie Red  Human Resources   25   55000  2021-06-01   \n",
      "\n",
      "   ExperienceYears   Bonus  \n",
      "0                5  7000.0  \n",
      "1                3  6000.0  \n",
      "2                7  8000.0  \n",
      "3               11  9000.0  \n",
      "4                2  5500.0  \n"
     ]
    }
   ],
   "source": [
    "# f\n",
    "df['Department'] = df['Department'].replace('HR', 'Human Resources')\n",
    "print(\"\\nUpdated Department column (HR replaced with Human Resources):\")\n",
    "print(df)"
   ]
  },
  {
   "cell_type": "code",
   "execution_count": 12,
   "metadata": {},
   "outputs": [
    {
     "name": "stdout",
     "output_type": "stream",
     "text": [
      "\n",
      "Employee(s) with the longest tenure:\n",
      "   EmployeeID        Name Department  Age  Salary   JoinDate  ExperienceYears  \\\n",
      "3         104  Emma Green    Finance   40   90000 2012-05-25               11   \n",
      "\n",
      "    Bonus  \n",
      "3  9000.0  \n"
     ]
    }
   ],
   "source": [
    "# g\n",
    "df['JoinDate'] = pd.to_datetime(df['JoinDate'])\n",
    "longest_tenure = df.loc[df['JoinDate'] == df['JoinDate'].min()]\n",
    "print(\"\\nEmployee(s) with the longest tenure:\")\n",
    "print(longest_tenure)"
   ]
  },
  {
   "cell_type": "code",
   "execution_count": 13,
   "metadata": {},
   "outputs": [
    {
     "name": "stdout",
     "output_type": "stream",
     "text": [
      "\n",
      "Data with SalaryCategory column:\n",
      "   EmployeeID         Name       Department  Age  Salary   JoinDate  \\\n",
      "0         101   John Smith               IT   30   70000 2018-07-15   \n",
      "1         102  Alice Brown  Human Resources   28   60000 2020-03-10   \n",
      "2         103    Bob White               IT   35   80000 2016-11-01   \n",
      "3         104   Emma Green          Finance   40   90000 2012-05-25   \n",
      "4         105  Charlie Red  Human Resources   25   55000 2021-06-01   \n",
      "\n",
      "   ExperienceYears   Bonus SalaryCategory  \n",
      "0                5  7000.0            Low  \n",
      "1                3  6000.0            Low  \n",
      "2                7  8000.0           High  \n",
      "3               11  9000.0           High  \n",
      "4                2  5500.0            Low  \n"
     ]
    }
   ],
   "source": [
    "# h\n",
    "df['SalaryCategory'] = df['Salary'].apply(lambda x: 'High' if x > 75000 else 'Low')\n",
    "print(\"\\nData with SalaryCategory column:\")\n",
    "print(df)"
   ]
  },
  {
   "cell_type": "code",
   "execution_count": 14,
   "metadata": {},
   "outputs": [
    {
     "name": "stdout",
     "output_type": "stream",
     "text": [
      "\n",
      "Data after removing duplicate EmployeeIDs (if any):\n",
      "   EmployeeID         Name       Department  Age  Salary   JoinDate  \\\n",
      "0         101   John Smith               IT   30   70000 2018-07-15   \n",
      "1         102  Alice Brown  Human Resources   28   60000 2020-03-10   \n",
      "2         103    Bob White               IT   35   80000 2016-11-01   \n",
      "3         104   Emma Green          Finance   40   90000 2012-05-25   \n",
      "4         105  Charlie Red  Human Resources   25   55000 2021-06-01   \n",
      "\n",
      "   ExperienceYears   Bonus SalaryCategory  \n",
      "0                5  7000.0            Low  \n",
      "1                3  6000.0            Low  \n",
      "2                7  8000.0           High  \n",
      "3               11  9000.0           High  \n",
      "4                2  5500.0            Low  \n"
     ]
    }
   ],
   "source": [
    "# i\n",
    "df_no_duplicates = df.drop_duplicates(subset='EmployeeID')\n",
    "print(\"\\nData after removing duplicate EmployeeIDs (if any):\")\n",
    "print(df_no_duplicates)"
   ]
  },
  {
   "cell_type": "code",
   "execution_count": 15,
   "metadata": {},
   "outputs": [
    {
     "name": "stdout",
     "output_type": "stream",
     "text": [
      "\n",
      "Median Age of all employees: 30.0\n"
     ]
    }
   ],
   "source": [
    "# j\n",
    "median_age = df['Age'].median()\n",
    "print(\"\\nMedian Age of all employees:\", median_age)"
   ]
  }
 ],
 "metadata": {
  "kernelspec": {
   "display_name": "Python 3",
   "language": "python",
   "name": "python3"
  },
  "language_info": {
   "codemirror_mode": {
    "name": "ipython",
    "version": 3
   },
   "file_extension": ".py",
   "mimetype": "text/x-python",
   "name": "python",
   "nbconvert_exporter": "python",
   "pygments_lexer": "ipython3",
   "version": "3.13.1"
  }
 },
 "nbformat": 4,
 "nbformat_minor": 2
}
