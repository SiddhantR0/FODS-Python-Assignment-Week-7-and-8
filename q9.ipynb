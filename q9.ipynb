{
 "cells": [
  {
   "cell_type": "code",
   "execution_count": null,
   "metadata": {},
   "outputs": [],
   "source": [
    "import numpy as np"
   ]
  },
  {
   "cell_type": "code",
   "execution_count": null,
   "metadata": {},
   "outputs": [],
   "source": [
    "import pandas as pd"
   ]
  },
  {
   "cell_type": "code",
   "execution_count": null,
   "metadata": {},
   "outputs": [],
   "source": [
    "data = {\n",
    "    'EmployeeID': [101, 102, 103, 104, 105],\n",
    "    'Name': ['John Smith', 'Alice Brown', 'Bob White', 'Emma Green', 'Charlie Red'],\n",
    "    'Department': ['IT', 'HR', 'IT', 'Finance', 'HR'],\n",
    "    'Age': [30, 28, 35, 40, 25],\n",
    "    'Salary': [70000, 60000, 80000, 90000, 55000],\n",
    "    'JoinDate': ['2018-07-15', '2020-03-10', '2016-11-01', '2012-05-25', '2021-06-01'],\n",
    "    'ExperienceYears': [5, 3, 7, 11, 2]\n",
    "}"
   ]
  },
  {
   "cell_type": "code",
   "execution_count": null,
   "metadata": {},
   "outputs": [],
   "source": [
    "df = pd.DataFrame(data)"
   ]
  },
  {
   "cell_type": "code",
   "execution_count": null,
   "metadata": {},
   "outputs": [],
   "source": [
    "df"
   ]
  },
  {
   "cell_type": "code",
   "execution_count": null,
   "metadata": {},
   "outputs": [],
   "source": [
    "# a\n",
    "selected_columns = df[['Name', 'Salary']]\n",
    "print(\"Selected Name and Salary Columns:\")\n",
    "print(selected_columns)"
   ]
  },
  {
   "cell_type": "code",
   "execution_count": null,
   "metadata": {},
   "outputs": [],
   "source": [
    "# b\n",
    "it_department_employees = df[df['Department'] != 'IT']\n",
    "print(\"\\nEmployees not in IT department:\")\n",
    "print(it_department_employees)"
   ]
  },
  {
   "cell_type": "code",
   "execution_count": null,
   "metadata": {},
   "outputs": [],
   "source": [
    "# c \n",
    "older_than_30 = df[df['Age'] > 30]\n",
    "average_salary_by_department = df.groupby('Department')['Salary'].mean()"
   ]
  },
  {
   "cell_type": "code",
   "execution_count": null,
   "metadata": {},
   "outputs": [],
   "source": [
    "# d\n",
    "employee_count_by_department = df['Department'].value_counts()\n",
    "print(\"\\nNumber of employees in each department:\")\n",
    "print(employee_count_by_department)"
   ]
  },
  {
   "cell_type": "code",
   "execution_count": null,
   "metadata": {},
   "outputs": [],
   "source": [
    "# e\n",
    "df['Bonus'] = df['Salary'] * 0.10\n",
    "print(\"\\nData with Bonus column added:\")\n",
    "print(df)"
   ]
  },
  {
   "cell_type": "code",
   "execution_count": null,
   "metadata": {},
   "outputs": [],
   "source": [
    "# f\n",
    "df['Department'] = df['Department'].replace('HR', 'Human Resources')\n",
    "print(\"\\nUpdated Department column (HR replaced with Human Resources):\")\n",
    "print(df)"
   ]
  },
  {
   "cell_type": "code",
   "execution_count": null,
   "metadata": {},
   "outputs": [],
   "source": [
    "# g\n",
    "df['JoinDate'] = pd.to_datetime(df['JoinDate'])\n",
    "longest_tenure = df.loc[df['JoinDate'] == df['JoinDate'].min()]\n",
    "print(\"\\nEmployee(s) with the longest tenure:\")\n",
    "print(longest_tenure)"
   ]
  },
  {
   "cell_type": "code",
   "execution_count": null,
   "metadata": {},
   "outputs": [],
   "source": [
    "# h\n",
    "df['SalaryCategory'] = df['Salary'].apply(lambda x: 'High' if x > 75000 else 'Low')\n",
    "print(\"\\nData with SalaryCategory column:\")\n",
    "print(df)"
   ]
  },
  {
   "cell_type": "code",
   "execution_count": null,
   "metadata": {},
   "outputs": [],
   "source": [
    "# i\n",
    "df_no_duplicates = df.drop_duplicates(subset='EmployeeID')\n",
    "print(\"\\nData after removing duplicate EmployeeIDs (if any):\")\n",
    "print(df_no_duplicates)"
   ]
  },
  {
   "cell_type": "code",
   "execution_count": null,
   "metadata": {},
   "outputs": [],
   "source": [
    "# j\n",
    "median_age = df['Age'].median()\n",
    "print(\"\\nMedian Age of all employees:\", median_age)"
   ]
  }
 ],
 "metadata": {
  "kernelspec": {
   "display_name": "Python 3",
   "language": "python",
   "name": "python3"
  },
  "language_info": {
   "codemirror_mode": {
    "name": "ipython",
    "version": 3
   },
   "file_extension": ".py",
   "mimetype": "text/x-python",
   "name": "python",
   "nbconvert_exporter": "python",
   "pygments_lexer": "ipython3",
   "version": "3.13.1"
  }
 },
 "nbformat": 4,
 "nbformat_minor": 2
}
