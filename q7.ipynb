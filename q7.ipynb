{
 "cells": [
  {
   "cell_type": "code",
   "execution_count": 1,
   "metadata": {},
   "outputs": [],
   "source": [
    "# import numpy module as np\n",
    "import numpy as np"
   ]
  },
  {
   "cell_type": "code",
   "execution_count": 2,
   "metadata": {},
   "outputs": [],
   "source": [
    "# defining the size of the array\n",
    "# generating random array of that size\n",
    "array_size = 10\n",
    "random_array = np.random.randint(1, 100, size=array_size)"
   ]
  },
  {
   "cell_type": "code",
   "execution_count": 3,
   "metadata": {},
   "outputs": [],
   "source": [
    "# sorting the array in ascending order\n",
    "sorted_array = np.sort(random_array)"
   ]
  },
  {
   "cell_type": "code",
   "execution_count": 4,
   "metadata": {},
   "outputs": [],
   "source": [
    "# defining the values of rows and column \n",
    "rows, columns = 2, 5"
   ]
  },
  {
   "cell_type": "code",
   "execution_count": 5,
   "metadata": {},
   "outputs": [],
   "source": [
    "# reshaping the sorted array into matrix form\n",
    "reshaped_array = sorted_array.reshape(rows, columns)"
   ]
  },
  {
   "cell_type": "code",
   "execution_count": 6,
   "metadata": {},
   "outputs": [
    {
     "name": "stdout",
     "output_type": "stream",
     "text": [
      "Original Random Array: [99 95 91 51 62 10 59  4 74 47]\n",
      "Sorted Array: [ 4 10 47 51 59 62 74 91 95 99]\n",
      "Reshaped Array (2x5 matrix):\n",
      "[[ 4 10 47 51 59]\n",
      " [62 74 91 95 99]]\n"
     ]
    }
   ],
   "source": [
    "# displaying the result\n",
    "print(\"Original Random Array:\", random_array)\n",
    "print(\"Sorted Array:\", sorted_array)\n",
    "print(f\"Reshaped Array ({rows}x{columns} matrix):\")\n",
    "print(reshaped_array)"
   ]
  }
 ],
 "metadata": {
  "kernelspec": {
   "display_name": "Python 3",
   "language": "python",
   "name": "python3"
  },
  "language_info": {
   "codemirror_mode": {
    "name": "ipython",
    "version": 3
   },
   "file_extension": ".py",
   "mimetype": "text/x-python",
   "name": "python",
   "nbconvert_exporter": "python",
   "pygments_lexer": "ipython3",
   "version": "3.13.1"
  }
 },
 "nbformat": 4,
 "nbformat_minor": 2
}
