{
 "cells": [
  {
   "cell_type": "code",
   "execution_count": 1,
   "metadata": {},
   "outputs": [],
   "source": [
    "# import numpy module as np\n",
    "import numpy as np"
   ]
  },
  {
   "cell_type": "code",
   "execution_count": 2,
   "metadata": {},
   "outputs": [],
   "source": [
    "# import pandas module as pd\n",
    "import pandas as pd"
   ]
  },
  {
   "cell_type": "code",
   "execution_count": 3,
   "metadata": {},
   "outputs": [],
   "source": [
    "# defining the series\n",
    "series1 = pd.Series([10, 20, 30, 40, 50])\n",
    "series2 = pd.Series([5, 4, 3, 2, 1])"
   ]
  },
  {
   "cell_type": "code",
   "execution_count": 4,
   "metadata": {},
   "outputs": [
    {
     "name": "stdout",
     "output_type": "stream",
     "text": [
      "Addition of Series1 and Series2:\n",
      "0    15\n",
      "1    24\n",
      "2    33\n",
      "3    42\n",
      "4    51\n",
      "dtype: int64\n"
     ]
    }
   ],
   "source": [
    "# addition \n",
    "addition_result = series1 + series2\n",
    "print(\"Addition of Series1 and Series2:\")\n",
    "print(addition_result)"
   ]
  },
  {
   "cell_type": "code",
   "execution_count": 5,
   "metadata": {},
   "outputs": [
    {
     "name": "stdout",
     "output_type": "stream",
     "text": [
      "Subtraction of Series1 and Series2:\n",
      "0     5\n",
      "1    16\n",
      "2    27\n",
      "3    38\n",
      "4    49\n",
      "dtype: int64\n"
     ]
    }
   ],
   "source": [
    "# subtraction \n",
    "subtraction_result = series1 - series2\n",
    "print(\"Subtraction of Series1 and Series2:\")\n",
    "print(subtraction_result)"
   ]
  },
  {
   "cell_type": "code",
   "execution_count": 6,
   "metadata": {},
   "outputs": [
    {
     "name": "stdout",
     "output_type": "stream",
     "text": [
      "Multiplication of Series1 and Series2:\n",
      "0    50\n",
      "1    80\n",
      "2    90\n",
      "3    80\n",
      "4    50\n",
      "dtype: int64\n"
     ]
    }
   ],
   "source": [
    "# multiplication\n",
    "multiplication_result = series1 * series2\n",
    "print(\"Multiplication of Series1 and Series2:\")\n",
    "print(multiplication_result)"
   ]
  },
  {
   "cell_type": "code",
   "execution_count": 7,
   "metadata": {},
   "outputs": [
    {
     "name": "stdout",
     "output_type": "stream",
     "text": [
      "Division of Series1 and Series2:\n",
      "0     2.0\n",
      "1     5.0\n",
      "2    10.0\n",
      "3    20.0\n",
      "4    50.0\n",
      "dtype: float64\n"
     ]
    }
   ],
   "source": [
    "# division \n",
    "division_result = series1 / series2\n",
    "print(\"Division of Series1 and Series2:\")\n",
    "print(division_result)"
   ]
  }
 ],
 "metadata": {
  "kernelspec": {
   "display_name": "Python 3",
   "language": "python",
   "name": "python3"
  },
  "language_info": {
   "codemirror_mode": {
    "name": "ipython",
    "version": 3
   },
   "file_extension": ".py",
   "mimetype": "text/x-python",
   "name": "python",
   "nbconvert_exporter": "python",
   "pygments_lexer": "ipython3",
   "version": "3.13.1"
  }
 },
 "nbformat": 4,
 "nbformat_minor": 2
}
