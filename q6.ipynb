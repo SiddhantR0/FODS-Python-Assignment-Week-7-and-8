{
 "cells": [
  {
   "cell_type": "code",
   "execution_count": null,
   "metadata": {},
   "outputs": [],
   "source": [
    "import numpy as np"
   ]
  },
  {
   "cell_type": "code",
   "execution_count": null,
   "metadata": {},
   "outputs": [],
   "source": [
    "nums = input(\"Enter at least 10 numbers separated by spaces: \")"
   ]
  },
  {
   "cell_type": "code",
   "execution_count": null,
   "metadata": {},
   "outputs": [],
   "source": [
    "numbers = list(map(int, nums.split()))"
   ]
  },
  {
   "cell_type": "code",
   "execution_count": null,
   "metadata": {},
   "outputs": [],
   "source": [
    "if len(numbers) < 10:\n",
    "    print(\"You must enter at least 10 numbers.\")\n",
    "else:\n",
    "    numbers.sort()"
   ]
  },
  {
   "cell_type": "code",
   "execution_count": null,
   "metadata": {},
   "outputs": [],
   "source": [
    "slice_2_5 = numbers[2:6]  \n",
    "slice_5_8 = numbers[5:9]  \n",
    "slice_2_9 = numbers[2:10]"
   ]
  },
  {
   "cell_type": "code",
   "execution_count": null,
   "metadata": {},
   "outputs": [],
   "source": [
    "print(\"Sorted Array:\", numbers)\n",
    "print(\"Elements between indexes 2 and 5:\", slice_2_5)\n",
    "print(\"Elements between indexes 5 and 8:\", slice_5_8)\n",
    "print(\"Elements between indexes 2 and 9:\", slice_2_9)"
   ]
  }
 ],
 "metadata": {
  "kernelspec": {
   "display_name": "Python 3",
   "language": "python",
   "name": "python3"
  },
  "language_info": {
   "codemirror_mode": {
    "name": "ipython",
    "version": 3
   },
   "file_extension": ".py",
   "mimetype": "text/x-python",
   "name": "python",
   "nbconvert_exporter": "python",
   "pygments_lexer": "ipython3",
   "version": "3.13.1"
  }
 },
 "nbformat": 4,
 "nbformat_minor": 2
}
